{
 "cells": [
  {
   "cell_type": "markdown",
   "id": "ae5f7a78",
   "metadata": {},
   "source": [
    "Data Analysis Notebook\n",
    "This notebook contains code to explore the dataset `test.csv`."
   ]
  },
  {
   "cell_type": "code",
   "execution_count": null,
   "id": "aa93a59a",
   "metadata": {},
   "outputs": [],
   "source": [
    "import pandas as pd\n",
    "import matplotlib.pyplot as plt\n",
    "import seaborn as sns\n",
    "\n",
    "sns.set(style=\"whitegrid\")\n",
    "\n",
    "df = pd.read_csv(\"test.csv\")\n",
    "\n",
    "print(df.shape)\n",
    "df.head()"
   ]
  },
  {
   "cell_type": "code",
   "execution_count": null,
   "id": "49fe2bbb",
   "metadata": {},
   "outputs": [],
   "source": [
    "df.info()\n",
    "\n",
    "df.describe()\n",
    "\n",
    "df.isnull().sum()\n",
    "\n",
    "for col in df.select_dtypes(include=['object']).columns:\n",
    "    print(f\"\\n{col} value counts:\")\n",
    "    print(df[col].value_counts())\n"
   ]
  },
  {
   "cell_type": "code",
   "execution_count": null,
   "id": "1aec9991",
   "metadata": {},
   "outputs": [],
   "source": [
    "df.hist(bins=30, figsize=(15, 10))\n",
    "plt.suptitle(\"Histograms of Numeric Features\")\n",
    "plt.show()\n",
    "\n",
    "for col in df.select_dtypes(include=['int64','float64']).columns:\n",
    "    sns.boxplot(x=df[col])\n",
    "    plt.title(f\"Boxplot of {col}\")\n",
    "    plt.show()\n",
    "\n",
    "for col in df.select_dtypes(include=['object']).columns:\n",
    "    sns.countplot(x=col, data=df)\n",
    "    plt.title(f\"Countplot of {col}\")\n",
    "    plt.xticks(rotation=45)\n",
    "    plt.show()\n"
   ]
  },
  {
   "cell_type": "code",
   "execution_count": null,
   "id": "7f7990d8",
   "metadata": {},
   "outputs": [],
   "source": [
    "\n",
    "plt.figure(figsize=(10,6))\n",
    "\n",
    "numeric_df = df.select_dtypes(include=['int64', 'float64'])\n",
    "sns.heatmap(numeric_df.corr(), annot=True, cmap='coolwarm')\n",
    "plt.title(\"Correlation Heatmap of Numeric Features\")\n",
    "plt.show()"
   ]
  }
 ],
 "metadata": {
  "kernelspec": {
   "display_name": "Python 3",
   "language": "python",
   "name": "python3"
  },
  "language_info": {
   "name": "python",
   "version": "3.9"
  }
 },
 "nbformat": 4,
 "nbformat_minor": 5
}
